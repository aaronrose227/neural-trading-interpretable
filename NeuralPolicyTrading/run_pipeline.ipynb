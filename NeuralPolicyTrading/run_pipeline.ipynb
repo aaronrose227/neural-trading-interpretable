{
 "cells": [
  {
   "cell_type": "code",
   "execution_count": null,
   "id": "effacb67",
   "metadata": {},
   "outputs": [
    {
     "ename": "NameError",
     "evalue": "name 'variants' is not defined",
     "output_type": "error",
     "traceback": [
      "\u001b[31m---------------------------------------------------------------------------\u001b[39m",
      "\u001b[31mNameError\u001b[39m                                 Traceback (most recent call last)",
      "\u001b[36mCell\u001b[39m\u001b[36m \u001b[39m\u001b[32mIn[1]\u001b[39m\u001b[32m, line 2\u001b[39m\n\u001b[32m      1\u001b[39m results = []\n\u001b[32m----> \u001b[39m\u001b[32m2\u001b[39m \u001b[38;5;28;01mfor\u001b[39;00m variant \u001b[38;5;129;01min\u001b[39;00m \u001b[43mvariants\u001b[49m:\n\u001b[32m      3\u001b[39m   \u001b[38;5;28;01mfor\u001b[39;00m regime \u001b[38;5;129;01min\u001b[39;00m regimes:\n\u001b[32m      4\u001b[39m     train_sr, test_sr = evaluate_synthetic(\n\u001b[32m      5\u001b[39m       regime, window_short, window_long,\n\u001b[32m      6\u001b[39m       variant, beta, lr, epochs,\n\u001b[32m      7\u001b[39m       plot=\u001b[38;5;28;01mFalse\u001b[39;00m         \u001b[38;5;66;03m# disable all inline plots\u001b[39;00m\n\u001b[32m      8\u001b[39m     )\n",
      "\u001b[31mNameError\u001b[39m: name 'variants' is not defined"
     ]
    }
   ],
   "source": [
    "import pandas as pd\n",
    "from evaluate import evaluate_synthetic\n",
    "\n",
    "# Hyperparams\n",
    "window_long, window_short = 200, 50\n",
    "variants  = ['logic','logic+feature','all']\n",
    "regimes   = ['trend','switch','flat']\n",
    "beta      = 10.0\n",
    "epochs    = 800\n",
    "\n",
    "results = []\n",
    "for variant in variants:\n",
    "    for regime in regimes:\n",
    "        lr = 0.001 if regime=='switch' else 0.01\n",
    "        print(f\"Running variant={variant}, regime={regime}, lr={lr}\")\n",
    "        sr = evaluate_synthetic(\n",
    "            regime=regime,\n",
    "            window_short=window_short,\n",
    "            window_long=window_long,\n",
    "            variant=variant,\n",
    "            beta=beta,\n",
    "            lr=lr,\n",
    "            epochs=epochs\n",
    "        )\n",
    "        results.append((variant, regime, sr))\n",
    "\n",
    "# Build and display the test‐Sharpe table\n",
    "df = pd.DataFrame(results, columns=['Variant','Regime','Sharpe']) \\\n",
    "       .pivot(index='Regime', columns='Variant', values='Sharpe')\n",
    "display(df)\n"
   ]
  }
 ],
 "metadata": {
  "kernelspec": {
   "display_name": "venv",
   "language": "python",
   "name": "python3"
  },
  "language_info": {
   "codemirror_mode": {
    "name": "ipython",
    "version": 3
   },
   "file_extension": ".py",
   "mimetype": "text/x-python",
   "name": "python",
   "nbconvert_exporter": "python",
   "pygments_lexer": "ipython3",
   "version": "3.12.7"
  }
 },
 "nbformat": 4,
 "nbformat_minor": 5
}
